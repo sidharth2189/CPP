{
 "cells": [
  {
   "cell_type": "markdown",
   "metadata": {
    "graffitiCellId": "id_dwzadwu"
   },
   "source": [
    "## Experiment with Jupyter Notebooks\n",
    "Press the `Compile & Run` button below to run the code in the terminal. The Notebook will save the code within the cell to `./code/main.cpp` and then compile and execute it. \n",
    "\n",
    "Try writing and running some code to see how it works!"
   ]
  },
  {
   "cell_type": "code",
   "execution_count": 1,
   "metadata": {
    "graffitiCellId": "id_u5bdxi7",
    "graffitiConfig": {
     "executeCellViaGraffiti": "hsznf5f_v797hj5"
    }
   },
   "outputs": [
    {
     "ename": "SyntaxError",
     "evalue": "invalid syntax (<ipython-input-1-2c919235550c>, line 2)",
     "output_type": "error",
     "traceback": [
      "\u001b[1;36m  File \u001b[1;32m\"<ipython-input-1-2c919235550c>\"\u001b[1;36m, line \u001b[1;32m2\u001b[0m\n\u001b[1;33m    // Write a simple function to add two integers\u001b[0m\n\u001b[1;37m     ^\u001b[0m\n\u001b[1;31mSyntaxError\u001b[0m\u001b[1;31m:\u001b[0m invalid syntax\n"
     ]
    }
   ],
   "source": [
    "#include <iostream>\n",
    "// Write a simple function to add two integers\n",
    "int Addition(int a, int b)\n",
    "{\n",
    "  return a + b;\n",
    "}\n",
    "\n",
    "// Define a main() function to test the Addition() function\n",
    "int main()\n",
    "{\n",
    "  int a = 2;\n",
    "  int b = 2;\n",
    "  int z = Addition(a, b);\n",
    "  std::cout << a << \" + \" << b << \" = \" << z << \" Yay!\\n\";\n",
    "}"
   ]
  },
  {
   "cell_type": "markdown",
   "metadata": {
    "graffitiCellId": "id_hsznf5f"
   },
   "source": [
    "<span class=\"graffiti-highlight graffiti-id_hsznf5f-id_v797hj5\"><i></i><button>Compile & Run</button></span>&nbsp;\n",
    "<span class=\"graffiti-highlight graffiti-id_bhg57lw-id_n6h1zxb\"><i></i><button>Explain</button></span>"
   ]
  },
  {
   "cell_type": "markdown",
   "metadata": {
    "graffitiCellId": "id_rjsor21",
    "graffitiConfig": {
     "rows": 6,
     "terminalId": "id_rjsor21",
     "type": "terminal"
    }
   },
   "source": [
    "<i>Loading terminal (id_rjsor21), please wait...</i>"
   ]
  }
 ],
 "metadata": {
  "graffiti": {
   "firstAuthorId": "8978490740",
   "id": "id_auol3m8",
   "language": "EN"
  },
  "kernelspec": {
   "display_name": "Python 3",
   "language": "python",
   "name": "python3"
  },
  "language_info": {
   "codemirror_mode": {
    "name": "ipython",
    "version": 3
   },
   "file_extension": ".py",
   "mimetype": "text/x-python",
   "name": "python",
   "nbconvert_exporter": "python",
   "pygments_lexer": "ipython3",
   "version": "3.7.3"
  }
 },
 "nbformat": 4,
 "nbformat_minor": 2
}
